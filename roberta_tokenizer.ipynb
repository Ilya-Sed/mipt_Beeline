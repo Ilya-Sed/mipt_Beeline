{
  "nbformat": 4,
  "nbformat_minor": 0,
  "metadata": {
    "colab": {
      "provenance": [],
      "machine_shape": "hm",
      "gpuType": "V28",
      "include_colab_link": true
    },
    "kernelspec": {
      "name": "python3",
      "display_name": "Python 3"
    },
    "language_info": {
      "name": "python"
    },
    "accelerator": "TPU"
  },
  "cells": [
    {
      "cell_type": "markdown",
      "metadata": {
        "id": "view-in-github",
        "colab_type": "text"
      },
      "source": [
        "<a href=\"https://colab.research.google.com/github/Ilya-Sed/mipt_Beeline/blob/main/roberta_tokenizer.ipynb\" target=\"_parent\"><img src=\"https://colab.research.google.com/assets/colab-badge.svg\" alt=\"Open In Colab\"/></a>"
      ]
    },
    {
      "cell_type": "code",
      "source": [
        "# прикрутим драйв\n",
        "\n",
        "from google.colab import drive\n",
        "drive.mount('/content/drive')"
      ],
      "metadata": {
        "colab": {
          "base_uri": "https://localhost:8080/"
        },
        "id": "UcKfm3usCXaQ",
        "outputId": "1287cfe7-a7e2-48df-f749-4832f9a01a94"
      },
      "execution_count": null,
      "outputs": [
        {
          "output_type": "stream",
          "name": "stdout",
          "text": [
            "Drive already mounted at /content/drive; to attempt to forcibly remount, call drive.mount(\"/content/drive\", force_remount=True).\n"
          ]
        }
      ]
    },
    {
      "cell_type": "code",
      "source": [
        "# считываем данные\n",
        "\n",
        "import pandas as pd\n",
        "\n",
        "# Try reading the CSV file while specifying the delimiter and handling bad lines\n",
        "try:\n",
        "    data = pd.read_csv('/content/drive/MyDrive/MIPT/hackaton_result_dataset 2.csv', sep=';', on_bad_lines='skip')\n",
        "except pd.errors.ParserError as e:\n",
        "    print(f\"ParserError: {e}\")\n",
        "\n",
        "data.drop('Unnamed: 4', inplace=True, axis=1)\n",
        "data.drop('audio_path', inplace=True, axis=1)\n",
        "\n",
        "\n",
        "# отлично, теперь у нас есть чистая дата, добавим ппризнак и попробуем найти кореляцию"
      ],
      "metadata": {
        "id": "xncakHe1Dlws"
      },
      "execution_count": null,
      "outputs": []
    },
    {
      "cell_type": "code",
      "execution_count": null,
      "metadata": {
        "colab": {
          "base_uri": "https://localhost:8080/",
          "height": 512
        },
        "id": "jK9L91IhBpoH",
        "outputId": "4eea4f5f-df7c-4e51-f077-cc130f0c7597"
      },
      "outputs": [
        {
          "output_type": "display_data",
          "data": {
            "text/plain": [
              "<Figure size 1000x500 with 1 Axes>"
            ],
            "image/png": "[encoded data removed]"
          },
          "metadata": {}
        },
        {
          "output_type": "stream",
          "name": "stdout",
          "text": [
            "Epoch: 1, Step: 2, Loss: 29.9326171875\n",
            "Epoch: 1, Step: 3, Loss: 20.690418243408203\n",
            "Epoch: 1, Step: 4, Loss: 16.837690353393555\n",
            "Epoch: 1, Step: 5, Loss: 14.688414573669434\n"
          ]
        }
      ],
      "source": [
        "import torch\n",
        "from torch.utils.data import Dataset, DataLoader\n",
        "from transformers import AdamW, XLMRobertaTokenizer, XLMRobertaForMaskedLM\n",
        "import matplotlib.pyplot as plt\n",
        "from IPython.display import clear_output\n",
        "\n",
        "# Предполагаем, что данные содержат тексты в формате списка строк\n",
        "texts = list(data['human_markup'])\n",
        "\n",
        "class TextDataset(Dataset):\n",
        "    def __init__(self, texts, tokenizer, max_length=512, mlm_probability=0.15):\n",
        "        self.texts = texts\n",
        "        self.tokenizer = tokenizer\n",
        "        self.max_length = max_length\n",
        "        self.mlm_probability = mlm_probability\n",
        "\n",
        "    def __len__(self):\n",
        "        return len(self.texts)\n",
        "\n",
        "    def __getitem__(self, idx):\n",
        "        text = self.texts[idx]\n",
        "        inputs = self.tokenizer(text, max_length=self.max_length, truncation=True, padding='max_length', return_tensors='pt')\n",
        "        inputs = {key: val.squeeze(0) for key, val in inputs.items()}\n",
        "        inputs['labels'] = inputs['input_ids'].clone()\n",
        "\n",
        "        # Маскировка части токенов\n",
        "        probability_matrix = torch.full(inputs['input_ids'].shape, self.mlm_probability)\n",
        "        special_tokens_mask = self.tokenizer.get_special_tokens_mask(inputs['input_ids'], already_has_special_tokens=True)\n",
        "        probability_matrix.masked_fill_(torch.tensor(special_tokens_mask, dtype=torch.bool), value=0.0)\n",
        "        masked_indices = torch.bernoulli(probability_matrix).bool()\n",
        "        inputs['input_ids'][masked_indices] = self.tokenizer.mask_token_id\n",
        "\n",
        "        return inputs\n",
        "\n",
        "# Настройка\n",
        "tokenizer = XLMRobertaTokenizer.from_pretrained('xlm-roberta-base')\n",
        "dataset = TextDataset(texts, tokenizer)\n",
        "dataloader = DataLoader(dataset, batch_size=50, shuffle=True)\n",
        "\n",
        "model = XLMRobertaForMaskedLM.from_pretrained('xlm-roberta-base')\n",
        "model.train()\n",
        "\n",
        "# Настройка оптимизатора\n",
        "optimizer = AdamW(model.parameters(), lr=5e-5)\n",
        "\n",
        "# Устройство для вычислений (GPU или CPU)\n",
        "device = torch.device('cuda') if torch.cuda.is_available() else torch.device('cpu')\n",
        "model.to(device)\n",
        "\n",
        "# Сохранение данных по loss\n",
        "loss_mask_bert = []\n",
        "\n",
        "# Функция для обновления графика\n",
        "def update_plot(losses):\n",
        "    clear_output(wait=True)\n",
        "    plt.figure(figsize=(10, 5))\n",
        "    plt.plot(losses, label='Training Loss')\n",
        "    plt.xlabel('Steps')\n",
        "    plt.ylabel('Loss')\n",
        "    plt.title('Training Loss Over Steps')\n",
        "    plt.legend()\n",
        "    plt.show()\n",
        "\n",
        "# Процесс дообучения\n",
        "epochs = 20\n",
        "for epoch in range(epochs):\n",
        "    epoch_loss = 0\n",
        "    for step, batch in enumerate(dataloader):\n",
        "        # Переносим данные на устройство\n",
        "        inputs = {key: val.to(device) for key, val in batch.items()}\n",
        "\n",
        "        # Получаем выходы модели\n",
        "        outputs = model(**inputs)\n",
        "        loss = outputs.loss\n",
        "\n",
        "        # Обратное распространение ошибки и оптимизация\n",
        "        optimizer.zero_grad()\n",
        "        loss.backward()\n",
        "        optimizer.step()\n",
        "\n",
        "        # Очистка кэша после каждого шага\n",
        "        torch.cuda.empty_cache()\n",
        "\n",
        "        step_loss = loss.item()\n",
        "        epoch_loss += step_loss\n",
        "        loss_mask_bert.append(step_loss)\n",
        "\n",
        "        print(f\"Epoch: {epoch + 1}, Step: {step + 1}, Loss: {step_loss}\")\n",
        "\n",
        "        # Обновление графика каждые 10 шагов\n",
        "        if step % 10 == 0:\n",
        "            update_plot(loss_mask_bert)\n",
        "\n",
        "    epoch_loss /= len(dataloader)\n",
        "    print(f\"Epoch: {epoch + 1}, Average Loss: {epoch_loss}\")\n",
        "\n",
        "# Сохранение дообученной модели\n",
        "model.save_pretrained('./fine_tuned_xlm_roberta')\n",
        "tokenizer.save_pretrained('./fine_tuned_xlm_roberta')\n",
        "\n",
        "# Финальное построение графика изменения loss\n",
        "update_plot(loss_mask_bert)\n"
      ]
    }
  ]
}